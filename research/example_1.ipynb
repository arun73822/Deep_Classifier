{
 "cells": [
  {
   "cell_type": "code",
   "execution_count": 1,
   "metadata": {},
   "outputs": [],
   "source": [
    "import os\n",
    "os.chdir(\"../\")"
   ]
  },
  {
   "cell_type": "code",
   "execution_count": 2,
   "metadata": {},
   "outputs": [],
   "source": [
    "from deep_classifier import logger\n",
    "from deep_classifier.config.configuration import Configuration\n",
    "from deep_classifier.components.data_ingestion import Data_Ingestion\n",
    "from deep_classifier.utility.common import create_directories,read_yaml_file"
   ]
  },
  {
   "cell_type": "code",
   "execution_count": 3,
   "metadata": {},
   "outputs": [
    {
     "name": "stdout",
     "output_type": "stream",
     "text": [
      "[2022-09-27 08:44:01,787:INFO:864121834]:>>>>>> stage Data Ingestion stage started <<<<<<\n",
      "[2022-09-27 08:44:01,795:INFO:common]:yaml_file:configs\\config.yaml is loaded successfully\n",
      "[2022-09-27 08:44:01,795:INFO:configuration]:Training pipleine config: Training_Pipeline_Config(artifacr_dir='c:\\\\Users\\\\arun7\\\\Desktop\\\\projects\\\\Deep_Classifier\\\\src/deep_classifier\\\\artifact')\n",
      "[2022-09-27 08:44:01,803:INFO:configuration]:Data Ingestion config: Data_Ingestion_Config(data_ingestion_dir='c:\\\\Users\\\\arun7\\\\Desktop\\\\projects\\\\Deep_Classifier\\\\src/deep_classifier\\\\artifact\\\\data_ingestion', dataset_download_url='https://download.microsoft.com/download/3/E/1/3E1C3F21-ECDB-4869-8368-6DEBA77B919F/kagglecatsanddogs_5340.zip', raw_data_dir='c:\\\\Users\\\\arun7\\\\Desktop\\\\projects\\\\Deep_Classifier\\\\src/deep_classifier\\\\artifact\\\\data_ingestion\\\\raw_data', extracted_data_dir='c:\\\\Users\\\\arun7\\\\Desktop\\\\projects\\\\Deep_Classifier\\\\src/deep_classifier\\\\artifact\\\\data_ingestion\\\\extracted_data', ingested_train_dir='c:\\\\Users\\\\arun7\\\\Desktop\\\\projects\\\\Deep_Classifier\\\\src/deep_classifier\\\\artifact\\\\data_ingestion\\\\train', ingested_test_dir='c:\\\\Users\\\\arun7\\\\Desktop\\\\projects\\\\Deep_Classifier\\\\src/deep_classifier\\\\artifact\\\\data_ingestion\\\\test')\n",
      "[2022-09-27 08:44:01,867:INFO:common]:Created the directory at c:\\Users\\arun7\\Desktop\\projects\\Deep_Classifier\\src/deep_classifier\\artifact\\data_ingestion\\raw_data\n",
      "[2022-09-27 08:44:01,875:INFO:data_ingestion]:Downloading file from :[https://download.microsoft.com/download/3/E/1/3E1C3F21-ECDB-4869-8368-6DEBA77B919F/kagglecatsanddogs_5340.zip] into :[c:\\Users\\arun7\\Desktop\\projects\\Deep_Classifier\\src/deep_classifier\\artifact\\data_ingestion\\raw_data\\kagglecatsanddogs_5340.zip]\n",
      "[2022-09-27 08:44:01,875:INFO:common]:Created the directory at c:\\Users\\arun7\\Desktop\\projects\\Deep_Classifier\\src/deep_classifier\\artifact\\data_ingestion\\extracted_data\n"
     ]
    },
    {
     "name": "stderr",
     "output_type": "stream",
     "text": [
      " 35%|███▌      | 8777/25000 [00:43<01:42, 158.04it/s]"
     ]
    },
    {
     "name": "stdout",
     "output_type": "stream",
     "text": [
      "[2022-09-27 08:44:46,236:INFO:data_ingestion]:removing file:c:\\Users\\arun7\\Desktop\\projects\\Deep_Classifier\\src/deep_classifier\\artifact\\data_ingestion\\extracted_data\\PetImages/Cat/666.jpg of size: ~0 KB\n"
     ]
    },
    {
     "name": "stderr",
     "output_type": "stream",
     "text": [
      " 58%|█████▊    | 14383/25000 [01:15<01:27, 121.11it/s]"
     ]
    },
    {
     "name": "stdout",
     "output_type": "stream",
     "text": [
      "[2022-09-27 08:45:18,145:INFO:data_ingestion]:removing file:c:\\Users\\arun7\\Desktop\\projects\\Deep_Classifier\\src/deep_classifier\\artifact\\data_ingestion\\extracted_data\\PetImages/Dog/11702.jpg of size: ~0 KB\n"
     ]
    },
    {
     "name": "stderr",
     "output_type": "stream",
     "text": [
      "100%|██████████| 25000/25000 [02:19<00:00, 178.86it/s]"
     ]
    },
    {
     "name": "stdout",
     "output_type": "stream",
     "text": [
      "[2022-09-27 08:46:22,145:INFO:864121834]:>>>>>> stage Data Ingestion stage completed <<<<<<\n",
      "\n",
      "x==========x\n"
     ]
    },
    {
     "name": "stderr",
     "output_type": "stream",
     "text": [
      "\n"
     ]
    }
   ],
   "source": [
    "STAGE_NAME = \"Data Ingestion stage\"\n",
    "\n",
    "def main():\n",
    "    config = Configuration()\n",
    "    data_ingestion_config = config.get_data_ingestion_config()\n",
    "    data_ingestion = Data_Ingestion(data_ingestion_config=data_ingestion_config)\n",
    "    data_ingestion.initiate_data_ingestion()\n",
    "\n",
    "if __name__ == '__main__':\n",
    "    try:\n",
    "        logger.info(f\">>>>>> stage {STAGE_NAME} started <<<<<<\")\n",
    "        main()\n",
    "        logger.info(f\">>>>>> stage {STAGE_NAME} completed <<<<<<\\n\\nx==========x\")\n",
    "    except Exception as e:\n",
    "        logger.exception(e)\n",
    "        raise e"
   ]
  },
  {
   "cell_type": "code",
   "execution_count": 1,
   "metadata": {},
   "outputs": [],
   "source": [
    "import os"
   ]
  },
  {
   "cell_type": "code",
   "execution_count": 2,
   "metadata": {},
   "outputs": [
    {
     "data": {
      "text/plain": [
       "'a/b\\\\c/d\\\\e.txt'"
      ]
     },
     "execution_count": 2,
     "metadata": {},
     "output_type": "execute_result"
    }
   ],
   "source": [
    "os.path.join(\"a/b\",\"c/d\",\"e.txt\")"
   ]
  },
  {
   "cell_type": "code",
   "execution_count": 1,
   "metadata": {},
   "outputs": [
    {
     "name": "stdout",
     "output_type": "stream",
     "text": [
      "Collecting split-folders\n",
      "  Downloading split_folders-0.5.1-py3-none-any.whl (8.4 kB)\n",
      "Installing collected packages: split-folders\n",
      "Successfully installed split-folders-0.5.1\n",
      "Note: you may need to restart the kernel to use updated packages.\n"
     ]
    }
   ],
   "source": [
    "pip install split-folders"
   ]
  },
  {
   "cell_type": "code",
   "execution_count": 8,
   "metadata": {},
   "outputs": [
    {
     "name": "stderr",
     "output_type": "stream",
     "text": [
      "Copying files: 24998 files [22:16, 18.71 files/s]\n"
     ]
    }
   ],
   "source": [
    "import splitfolders\n",
    "\n",
    "splitfolders.ratio(r\"C:\\Users\\arun7\\Desktop\\projects\\Deep_Classifier\\src\\deep_classifier\\artifact\\data_ingestion\\extracted_data\\PetImages\", # The location of dataset\n",
    "                   output=r\"C:\\Users\\arun7\\Desktop\\projects\\Deep_Classifier\\research\", # The output location\n",
    "                   seed=42, # The number of seed\n",
    "                   ratio=(.7, .2,.1), # The ratio of splited dataset\n",
    "                   group_prefix=None, # If your dataset contains more than one file like \".jpg\", \".pdf\", etc\n",
    "                   move=False # If you choose to move, turn this into True\n",
    "                   )"
   ]
  },
  {
   "cell_type": "code",
   "execution_count": null,
   "metadata": {},
   "outputs": [],
   "source": []
  },
  {
   "cell_type": "code",
   "execution_count": null,
   "metadata": {},
   "outputs": [],
   "source": []
  }
 ],
 "metadata": {
  "kernelspec": {
   "display_name": "Python 3.8.13",
   "language": "python",
   "name": "python3"
  },
  "language_info": {
   "codemirror_mode": {
    "name": "ipython",
    "version": 3
   },
   "file_extension": ".py",
   "mimetype": "text/x-python",
   "name": "python",
   "nbconvert_exporter": "python",
   "pygments_lexer": "ipython3",
   "version": "3.8.13"
  },
  "orig_nbformat": 4,
  "vscode": {
   "interpreter": {
    "hash": "4ea7cd62dd0f93d345c4ebcf241b542b124beb90708547bc78d7ffe3213a9862"
   }
  }
 },
 "nbformat": 4,
 "nbformat_minor": 2
}
